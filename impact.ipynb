{
 "cells": [
  {
   "cell_type": "markdown",
   "id": "c1037baa",
   "metadata": {},
   "source": [
    "# Was passiert mit openGLAM-Daten auf Wikidata?\n",
    "\n",
    "*Alexander Winkler, <winkler@zib.de>, [ORCID 0000-0002-9145-7238](https://orcid.org/0000-0002-9145-7238)*\n",
    "\n",
    "## Einleitung\n",
    "\n",
    "Für GLAM-Institutionen bietet [Wikidata](https://www.wikidata.org) großes Potenzial, da sie ihre qualitativ hochwertigen Daten auf diese Weise einem breiten Publikum in maschinen- und menschenlesbarer sowie vielfach nachnutzbarer Form zugänglich machen können.\n",
    "Die Daten werden eingebunden in den großen Wikidata-Wissensgraphen, werden direkt verlinkt oder aber indirekt in Verbindung gebracht mit anderen Objekten, mit weiteren Informationen angereichert und insgesamt besser auffindbar gemacht.\n",
    "\n",
    "Zahlreiche Einrichtungen verwenden Wikidata auch als variabel erweiter- und editierbare Normdatei oder als Normdatenhub, auf dem verschiedene etablierte Normvokablare miteinander verknüpft werden.\n",
    "\n",
    "Einen (etwas veralteten) Überblick über GLAM-Projekte mit Wikidata-Bezug bietet [diese Seite](https://www.wikidata.org/wiki/Wikidata:GLAM).\n",
    "\n",
    "## Fragestellung\n",
    "\n",
    "Diese oben behaupteten Vorteile sollten quantitativ untermauert werden, insbesondere um GLAM-Institutionen die Abwägung zu erleichtern, ob Ressourcen für die Bereitstellung ihrer Daten über Wikidata aufgewendet werden sollen.\n",
    "\n",
    "Im Folgenden wird versucht, die Interaktion mit GLAM-Daten auf Wikidata in Zahlen zu fassen.\n",
    "Zunächst soll untersucht werden, wie intensiv die Daten auf Wikidata bearbeitet werden.\n",
    "Die Bearbeitungsintensität kann, so die These, als grober Indikator für die Wahrnehmung der Daten gelten.\n",
    "Zudem ist davon auszugehen, dass durch die Bearbeitung die Datenqualität erhöht wird und somit die GLAM-Daten von ihrer Bereitstellung auf Wikidata profitieren.\n",
    "\n",
    "## Methode\n",
    "\n",
    "Die benötigten Informationen sind der Revisionsgeschichte der einzelnen Objekte zu entnehmen.\n",
    "Über die Revisionsgeschichte gibt die [Mediawiki-API](https://www.mediawiki.org/wiki/API:Revisions) Aufschluss.\n",
    "\n",
    "Die Liste relevanter Objekte, d.h. im konkreten Fall die Objekte einer Institutionen, ist mit einer SPARQL-Abfrage ermittelbar."
   ]
  },
  {
   "cell_type": "markdown",
   "id": "44ed98e2",
   "metadata": {},
   "source": [
    "## Technische Präliminiarien"
   ]
  },
  {
   "cell_type": "markdown",
   "id": "bbbab4e7",
   "metadata": {},
   "source": [
    "### Import benötigter Module"
   ]
  },
  {
   "cell_type": "code",
   "execution_count": 275,
   "id": "141773cb",
   "metadata": {},
   "outputs": [],
   "source": [
    "from bs4 import BeautifulSoup\n",
    "from collections import Counter, defaultdict\n",
    "import requests\n",
    "import json\n",
    "import re\n",
    "from random import choices"
   ]
  },
  {
   "cell_type": "markdown",
   "id": "cfff53b1",
   "metadata": {},
   "source": [
    "### Tag-Liste für Bearbeitungsweisen von Wikidata laden\n",
    "\n",
    "In der Revisionsgeschichte werden bestimmte [Tags](https://www.wikidata.org/wiki/Special:Tags) verwendet, um zu kennzeichnen, wie ein Bearbeitungvorgang der Seite stattfand. Durch den Tag `wikidata-ui` wird z.B. angezeigt, dass eine Bearbeitung über die GUI erfolgte.\n",
    "\n",
    "Im Dictionary `WikidataTagsDict` werden für die spätere Visualisierung die aussagekräftigeren Bezeichnungen der Tags gesammelt."
   ]
  },
  {
   "cell_type": "code",
   "execution_count": 423,
   "id": "a1970561",
   "metadata": {},
   "outputs": [],
   "source": [
    "html = requests.get(\"https://www.wikidata.org/wiki/Special:Tags\").text\n",
    "soup = BeautifulSoup(html)\n",
    "\n",
    "WikidataTagsDict = {}\n",
    "\n",
    "for row in soup.tbody.find_all('tr'):\n",
    "    tag,appearance,descr,source,active,num = [_.text for _ in row.find_all(\"td\")]\n",
    "    WikidataTagsDict[tag] = appearance"
   ]
  },
  {
   "cell_type": "markdown",
   "id": "0ac382ef",
   "metadata": {},
   "source": [
    "### Labels für Properties\n",
    "\n",
    "Die Datei `properties.json` enthält die Labels für häufig verwendete Properties.\n",
    "Damit die Properties nicht immer von neuem geladen werden müssen, werden sie lokal gespeichert und ins Dictionary `PropertyDict` geladen."
   ]
  },
  {
   "cell_type": "code",
   "execution_count": 383,
   "id": "bdba8e44",
   "metadata": {},
   "outputs": [
    {
     "name": "stdout",
     "output_type": "stream",
     "text": [
      "https://www.wikidata.org/wiki/Special:EntityData/P6332.json\n",
      "https://www.wikidata.org/wiki/Special:EntityData/P2079.json\n",
      "https://www.wikidata.org/wiki/Special:EntityData/P625.json\n",
      "https://www.wikidata.org/wiki/Special:EntityData/P2789.json\n",
      "https://www.wikidata.org/wiki/Special:EntityData/P50.json\n",
      "https://www.wikidata.org/wiki/Special:EntityData/P664.json\n",
      "https://www.wikidata.org/wiki/Special:EntityData/P131.json\n",
      "https://www.wikidata.org/wiki/Special:EntityData/P3673.json\n",
      "https://www.wikidata.org/wiki/Special:EntityData/P4627.json\n",
      "https://www.wikidata.org/wiki/Special:EntityData/P3342.json\n",
      "https://www.wikidata.org/wiki/Special:EntityData/P1299.json\n",
      "https://www.wikidata.org/wiki/Special:EntityData/P577.json\n",
      "https://www.wikidata.org/wiki/Special:EntityData/P6002.json\n",
      "https://www.wikidata.org/wiki/Special:EntityData/P2671.json\n",
      "https://www.wikidata.org/wiki/Special:EntityData/P11005.json\n",
      "https://www.wikidata.org/wiki/Special:EntityData/P156.json\n",
      "https://www.wikidata.org/wiki/Special:EntityData/P2014.json\n",
      "https://www.wikidata.org/wiki/Special:EntityData/P5008.json\n",
      "https://www.wikidata.org/wiki/Special:EntityData/P176.json\n",
      "https://www.wikidata.org/wiki/Special:EntityData/P1574.json\n",
      "https://www.wikidata.org/wiki/Special:EntityData/P3931.json\n",
      "https://www.wikidata.org/wiki/Special:EntityData/P8371.json\n",
      "https://www.wikidata.org/wiki/Special:EntityData/P580.json\n",
      "https://www.wikidata.org/wiki/Special:EntityData/P6323.json\n",
      "https://www.wikidata.org/wiki/Special:EntityData/P7778.json\n",
      "https://www.wikidata.org/wiki/Special:EntityData/P10661.json\n",
      "https://www.wikidata.org/wiki/Special:EntityData/P2043.json\n",
      "https://www.wikidata.org/wiki/Special:EntityData/P2047.json\n",
      "https://www.wikidata.org/wiki/Special:EntityData/P462.json\n",
      "https://www.wikidata.org/wiki/Special:EntityData/P2670.json\n",
      "https://www.wikidata.org/wiki/Special:EntityData/P2635.json\n",
      "https://www.wikidata.org/wiki/Special:EntityData/P6500.json\n",
      "https://www.wikidata.org/wiki/Special:EntityData/P287.json\n",
      "https://www.wikidata.org/wiki/Special:EntityData/P9883.json\n",
      "https://www.wikidata.org/wiki/Special:EntityData/P1716.json\n",
      "https://www.wikidata.org/wiki/Special:EntityData/P582.json\n",
      "https://www.wikidata.org/wiki/Special:EntityData/P710.json\n",
      "https://www.wikidata.org/wiki/Special:EntityData/P1640.json\n",
      "https://www.wikidata.org/wiki/Special:EntityData/P212.json\n",
      "https://www.wikidata.org/wiki/Special:EntityData/P7937.json\n",
      "https://www.wikidata.org/wiki/Special:EntityData/P736.json\n",
      "https://www.wikidata.org/wiki/Special:EntityData/P953.json\n",
      "https://www.wikidata.org/wiki/Special:EntityData/P138.json\n",
      "https://www.wikidata.org/wiki/Special:EntityData/P856.json\n",
      "https://www.wikidata.org/wiki/Special:EntityData/P279.json\n"
     ]
    }
   ],
   "source": [
    "# Einlesen eines Ergebnis-Dict aus Datei\n",
    "with open('properties.json') as json_file:\n",
    "    PropertyDict = json.load(json_file)"
   ]
  },
  {
   "cell_type": "markdown",
   "id": "616d17c7",
   "metadata": {},
   "source": [
    "## Umsetzung\n",
    "\n",
    "Als Beispiel sollen die Objekte der Berliner Gemäldegalerie ([Q165631](http://www.wikidata.org/entity/Q165631)) dienen.\n",
    "Der entsprechende SPARQL-Query im Wikidata Query Service: <https://w.wiki/6t6V> .\n",
    "\n",
    "Der Query (`query`) kann durch einen beliebigen anderen ersetzt werden."
   ]
  },
  {
   "cell_type": "code",
   "execution_count": 427,
   "id": "3a9b187b",
   "metadata": {},
   "outputs": [],
   "source": [
    "# Ermittlung der Q-IDs\n",
    "\n",
    "\n",
    "#pip install sparqlwrapper\n",
    "# https://rdflib.github.io/sparqlwrapper/\n",
    "\n",
    "import sys\n",
    "from SPARQLWrapper import SPARQLWrapper, JSON\n",
    "\n",
    "endpoint_url = \"https://query.wikidata.org/sparql\"\n",
    "\n",
    "# Berliner Gemäldegalerie\n",
    "query = \"\"\"SELECT ?x WHERE {\n",
    "  ?x wdt:P276 wd:Q165631 .\n",
    "  }\"\"\"\n",
    "\n",
    "\n",
    "def get_results(endpoint_url, query):\n",
    "    '''\n",
    "    Abruf der Ergebnisse einer SPARQL-Anfrage an den Wikidata-Endpoint\n",
    "    '''\n",
    "    user_agent = \"WDQS-example Python/%s.%s\" % (sys.version_info[0], sys.version_info[1])\n",
    "    # TODO adjust user agent; see https://w.wiki/CX6\n",
    "    sparql = SPARQLWrapper(endpoint_url, agent=user_agent)\n",
    "    sparql.setQuery(query)\n",
    "    sparql.setReturnFormat(JSON)\n",
    "    return sparql.query().convert()\n",
    "\n",
    "results = get_results(endpoint_url, query)"
   ]
  },
  {
   "cell_type": "code",
   "execution_count": 428,
   "id": "19681ace",
   "metadata": {},
   "outputs": [],
   "source": [
    "# Extraktion der Q-IDs\n",
    "# Ergebnis: Eine Liste der Q-IDs, die der SPARQL-Query zurückgibt.\n",
    "qidList = []\n",
    "for result in results[\"results\"][\"bindings\"]:\n",
    "    uri = result.get('x').get('value')\n",
    "    qid = uri.split(\"/\")[-1]\n",
    "    qidList.append(qid)"
   ]
  },
  {
   "cell_type": "code",
   "execution_count": 429,
   "id": "d6dddf52",
   "metadata": {},
   "outputs": [
    {
     "name": "stdout",
     "output_type": "stream",
     "text": [
      "Anzahl der auf Wikidata ermittelten Objekte: 3662\n"
     ]
    }
   ],
   "source": [
    "print(f\"Anzahl der auf Wikidata ermittelten Objekte: {len(qidList)}\")"
   ]
  },
  {
   "cell_type": "markdown",
   "id": "89c8cc3f",
   "metadata": {},
   "source": [
    "### Bezug der Revisionsgeschichte"
   ]
  },
  {
   "cell_type": "code",
   "execution_count": 391,
   "id": "99670967",
   "metadata": {},
   "outputs": [],
   "source": [
    "def getRevisionHistory(qid):\n",
    "    '''\n",
    "    Fragt über die API die Revisionsgeschichte zu einer Q-ID ab.\n",
    "    '''\n",
    "    endpoint = \"https://www.wikidata.org/w/api.php\"\n",
    "    params = {\n",
    "        'action' : 'query',\n",
    "        'prop' : 'revisions',\n",
    "        'titles' : qid,\n",
    "        'rvslots' : 'main',\n",
    "        'rvlimit' : '500',\n",
    "        'rvprop' : 'timestamp|user|comment|size|tags',\n",
    "        'format' : 'json'\n",
    "    }\n",
    "    res = requests.get(endpoint, params = params)\n",
    "    return res"
   ]
  },
  {
   "cell_type": "code",
   "execution_count": 392,
   "id": "a7929b1b",
   "metadata": {},
   "outputs": [],
   "source": [
    "resultDict = {}\n",
    "\n",
    "#for obj in choices(qidList,k=50): # eine Auswahl zum Testen bei einer größeren Treffermenge\n",
    "for obj in qidList:\n",
    "    res = getRevisionHistory(obj)\n",
    "    for x in res.json().get('query').get('pages').values():\n",
    "        resultDict[x.get('title')] = x.get('revisions')"
   ]
  },
  {
   "cell_type": "markdown",
   "id": "fdbfd3ad",
   "metadata": {},
   "source": [
    "## Optional Sicherungskopien\n",
    "\n",
    "Gerade bei größeren Treffermengen kann der Abruf, der für jede Q-ID einzeln erfolgt, Zeit brauchen.\n",
    "Es bietet sich also an, die Ergebnisse lokal zu speichern.\n",
    "\n",
    "Der Dateiname (`backupFileName`) kann geändert werden, damit unterschiedliche Datensätze gespeichert werden können."
   ]
  },
  {
   "cell_type": "code",
   "execution_count": 446,
   "id": "91024646",
   "metadata": {},
   "outputs": [],
   "source": [
    "backupFileName = \"backup.json\""
   ]
  },
  {
   "cell_type": "code",
   "execution_count": 393,
   "id": "8aa71f16",
   "metadata": {},
   "outputs": [],
   "source": [
    "#Schreibe Ergebnis-Dict in Datei\n",
    "with open(backupFileName, \"w\") as OUT:\n",
    "    OUT.write(json.dumps(resultDict))"
   ]
  },
  {
   "cell_type": "code",
   "execution_count": 357,
   "id": "ba35124b",
   "metadata": {},
   "outputs": [],
   "source": [
    "# Einlesen eines Ergebnis-Dict aus Datei\n",
    "with open(backupFileName, \"r\") as json_file:\n",
    "    resultDict = json.load(json_file)"
   ]
  },
  {
   "cell_type": "markdown",
   "id": "a2056b3e",
   "metadata": {},
   "source": [
    "## Frage: Wie viele unterschiedliche User:innen haben über das Web-Interface Objekte der Gemäldegalerie bearbeitet?\n",
    "\n",
    "Nun wird ein Blick auf die Revisionsgeschichte geworfen.\n",
    "Dabei sollen zunächst nur Edits über die Wikidata-Weboberfläche berücksichtigt werden, d.h. solche, die vermutlich manuell vorgenommen wurden.\n",
    "Diese Edits enthalten den Tag `wikidata-ui`."
   ]
  },
  {
   "cell_type": "code",
   "execution_count": 430,
   "id": "c855b006",
   "metadata": {},
   "outputs": [],
   "source": [
    "manuallyChangedItems = dict()\n",
    "manuallyChangedProps = dict()\n",
    "\n",
    "for qid,rev in resultDict.items():\n",
    "    manuallyChangedItems[qid] = []\n",
    "    manuallyChangedProps[qid] = []\n",
    "    for r in rev:\n",
    "        user = r.get('user')\n",
    "        time = r.get('timestamp')\n",
    "        comm = r.get('comment')\n",
    "        tags = r.get('tags')\n",
    "        m = re.match(r'\\/\\* (?P<action>\\S+):\\d\\|\\|\\d \\*\\/ \\[\\[Property:(?P<prop>\\w+)\\]\\]:' , comm)        \n",
    "        if \"wikidata-ui\" in tags:\n",
    "            manuallyChangedItems[qid].append(user)\n",
    "            if m:\n",
    "                manuallyChangedProps[qid].append(m.groupdict().get('prop'))"
   ]
  },
  {
   "cell_type": "code",
   "execution_count": 448,
   "id": "01788966",
   "metadata": {},
   "outputs": [
    {
     "data": {
      "image/png": "[encoded data removed]",
      "text/plain": [
       "<Figure size 432x288 with 1 Axes>"
      ]
     },
     "metadata": {
      "needs_background": "light"
     },
     "output_type": "display_data"
    }
   ],
   "source": [
    "categories = []\n",
    "for k,v in manuallyChangedItems.items():\n",
    "    if len(v) == 0:\n",
    "        categories.append(\"keinen Edit\")\n",
    "    if 0 < len(v) < 5:\n",
    "        categories.append(\"weniger als 5 Edits\")\n",
    "    if 4 < len(v):\n",
    "        categories.append(\"5 oder mehr Edits\")\n",
    "\n",
    "c = Counter(categories)\n",
    "xlabels = [\"keinen Edit\", \"weniger als 5 Edits\", \"5 oder mehr Edits\"]\n",
    "plt.bar(xlabels, [c.get(_) for _ in xlabels])\n",
    "title = f\"Die meisten der {len(manuallyChangedItems)} Objekte haben keinen manuellen Edit.\"\n",
    "plt.title(title)\n",
    "plt.tight_layout()"
   ]
  },
  {
   "cell_type": "code",
   "execution_count": 449,
   "id": "68ab19b5",
   "metadata": {},
   "outputs": [
    {
     "name": "stdout",
     "output_type": "stream",
     "text": [
      "Der Anteil von manuell bearbeiteten Objekten beträgt 2 %.\n"
     ]
    }
   ],
   "source": [
    "anteil = (c.get('5 oder mehr Edits') + c.get('weniger als 5 Edits')) / sum(c.values())\n",
    "\n",
    "print(f\"Der Anteil von manuell bearbeiteten Objekten beträgt {anteil * 100:.0f} %.\")"
   ]
  },
  {
   "cell_type": "code",
   "execution_count": 442,
   "id": "b2fe16fd",
   "metadata": {},
   "outputs": [
    {
     "data": {
      "image/png": "[encoded data removed]",
      "text/plain": [
       "<Figure size 432x288 with 1 Axes>"
      ]
     },
     "metadata": {
      "needs_background": "light"
     },
     "output_type": "display_data"
    }
   ],
   "source": [
    "c = Counter([len(v) for v in manuallyChangedItems.values() if len(v) > 0])\n",
    "xs = range(len(c))\n",
    "ys = [c.get(x,0) for x in xs]\n",
    "plt.bar(xs,ys)\n",
    "plt.suptitle(\"Verteilung der manuellen Edits je Objekt\", y=1.05, fontsize=20)\n",
    "plt.title(\"Ca. 200 Objekte haben nur einen manuellen Edit\")\n",
    "plt.ylabel(\"Wikidata-Items\")\n",
    "plt.xlabel(\"Zahl der Edits\")\n",
    "plt.tight_layout()"
   ]
  },
  {
   "cell_type": "markdown",
   "id": "dcb32c7d",
   "metadata": {},
   "source": [
    "### User:innen\n",
    "\n",
    "Welche User:innen haben die Edits über die Weboberfläche vorgenommen?"
   ]
  },
  {
   "cell_type": "code",
   "execution_count": 443,
   "id": "3da212c0",
   "metadata": {},
   "outputs": [
    {
     "data": {
      "image/png": "[encoded data removed]",
      "text/plain": [
       "<Figure size 432x288 with 1 Axes>"
      ]
     },
     "metadata": {
      "needs_background": "light"
     },
     "output_type": "display_data"
    }
   ],
   "source": [
    "users = []\n",
    "for _ in manuallyChangedItems.values():\n",
    "    users.extend(_)\n",
    "\n",
    "n = 10\n",
    "xs,ys = zip(*Counter(users).most_common(n))\n",
    "plt.bar(xs,ys)\n",
    "plt.xticks(rotation=30)\n",
    "title = f\"Die {n} User:innen (von insges. {len(set(users))}) mit den meisten Edits über Weboberfläche\"\n",
    "plt.title(title)\n",
    "plt.tight_layout()"
   ]
  },
  {
   "cell_type": "markdown",
   "id": "a7ddf871",
   "metadata": {},
   "source": [
    "### Welche Properties werden bearbeitet?"
   ]
  },
  {
   "cell_type": "code",
   "execution_count": 445,
   "id": "72472a79",
   "metadata": {},
   "outputs": [
    {
     "data": {
      "image/png": "[encoded data removed]",
      "text/plain": [
       "<Figure size 432x288 with 1 Axes>"
      ]
     },
     "metadata": {
      "needs_background": "light"
     },
     "output_type": "display_data"
    }
   ],
   "source": [
    "props = []\n",
    "for v in manuallyChangedProps.values():\n",
    "    props.extend(v)\n",
    "    \n",
    "## Nötigenfalls Properties ins PropertyDict nachladen ...\n",
    "for p in Counter(props).keys():\n",
    "    if not p in PropertyDict:\n",
    "        res = requests.get(f\"https://www.wikidata.org/wiki/Special:EntityData/{p}.json\")\n",
    "        label = res.json().get('entities').get(p).get('labels').get('en').get('value')\n",
    "        PropertyDict[p] = label\n",
    "    \n",
    "## ... und wieder speichern\n",
    "with open(\"properties.json\", \"w\") as OUT:\n",
    "    OUT.write(json.dumps(PropertyDict))   \n",
    "    \n",
    "xs = []\n",
    "ys = []\n",
    "\n",
    "n = 10\n",
    "for _ in Counter(props).most_common(n):\n",
    "    xs.append(f\"{PropertyDict.get(_[0])} ({_[0]})\")\n",
    "    ys.append(_[1])\n",
    "\n",
    "\n",
    "title = f\"Die {n} meisteditierten Properties.\"\n",
    "plt.barh(xs,ys)\n",
    "plt.gca().invert_yaxis() # https://stackoverflow.com/questions/34076177/matplotlib-horizontal-bar-chart-barh-is-upside-down\n",
    "\n",
    "plt.title(title)\n",
    "plt.tight_layout()\n",
    "plt.show()"
   ]
  },
  {
   "cell_type": "markdown",
   "id": "f934abd2",
   "metadata": {},
   "source": [
    "## Verlinkungen auf Seite\n",
    "\n",
    "Als nächster möglicher Schritt ließen sich die Links, die zu den Objektseiten führen, analysieren.\n",
    "\n",
    "Der entsprechende API-Eintrag zu [`linkshere`](https://www.mediawiki.org/w/api.php?action=help&modules=query%2Blinkshere).\n",
    "`linkshere` liefert alle Wikimedia-Seiten, die auf die Seite (nicht das Item) verweisen"
   ]
  },
  {
   "cell_type": "code",
   "execution_count": 452,
   "id": "56aca300",
   "metadata": {},
   "outputs": [
    {
     "data": {
      "text/plain": [
       "{'batchcomplete': '',\n",
       " 'query': {'pages': {'48560678': {'pageid': 48560678,\n",
       "    'ns': 0,\n",
       "    'title': 'Q47517445',\n",
       "    'linkshere': [{'pageid': 43590427,\n",
       "      'ns': 4,\n",
       "      'title': 'Wikidata:WikiProject sum of all paintings/Collection/Berlinische Galerie'},\n",
       "     {'pageid': 55799717,\n",
       "      'ns': 4,\n",
       "      'title': 'Wikidata:WikiProject sum of all paintings/Creator/Issai Kulvianski'}]}}}}"
      ]
     },
     "execution_count": 452,
     "metadata": {},
     "output_type": "execute_result"
    }
   ],
   "source": [
    "# Beispielabfrage für ein Item\n",
    "\n",
    "res = requests.get(\"https://www.wikidata.org/w/api.php?action=query&prop=linkshere&titles=Q47517445&format=json\")\n",
    "res.json()"
   ]
  },
  {
   "cell_type": "markdown",
   "id": "09ee2220",
   "metadata": {},
   "source": [
    "Ergänzend hierzu ließe sich über den SPARQL-Endpoint ermitteln, welche anderen Wikidata-Items die Objekte der GLAM-Einrichtungen "
   ]
  },
  {
   "cell_type": "markdown",
   "id": "95dee965",
   "metadata": {},
   "source": [
    "## Fazit\n",
    "\n",
    "Zumindest die oberflächliche  Betrachtung legt nahe, dass die Wikidata-Community bei einem gewissen Teil (hier 20%) die Daten manuell nachbearbeitet und damit wohl auch ihre Qualität steigert oder sie mit Informationen anreichert, die womöglich in den Datenbanken der Institutionen nicht (explizit) enthalten sind (Inhaltsbeschreibung, Normvokabulare etc.)"
   ]
  },
  {
   "cell_type": "markdown",
   "id": "debc4be3",
   "metadata": {},
   "source": [
    "## Ausblick\n",
    "\n",
    "Die oben vorgestellte 'Probebohrung' müsste erheblich verfeinert werden.\n",
    "\n",
    "Es könnte z.B. noch untersucht werden, welchen Einfluss die Aufnahme von Objekten in bestimmte Kategorien oder Projekte (z.B. [Sum of all Paintings](https://www.wikidata.org/wiki/Wikidata:WikiProject_sum_of_all_paintings)) hat, ob und wenn ja welche Personencluster sich unter den Editor:innen herausbilden, welche Interessensschwerpunkte sie haben, wann die Edits im Datenlebenszyklus erfolgen etc.\n",
    "\n",
    "Hinweise, Fragen und Anregungen gerne jederzeit an <winkler@zib.de> oder auch auf [Mastodon](https://openbiblio.social/@awinkler)."
   ]
  },
  {
   "cell_type": "markdown",
   "id": "3dd3f0ba",
   "metadata": {},
   "source": [
    "<p xmlns:dct=\"http://purl.org/dc/terms/\" xmlns:vcard=\"http://www.w3.org/2001/vcard-rdf/3.0#\">\n",
    "  <a rel=\"license\"\n",
    "     href=\"http://creativecommons.org/publicdomain/zero/1.0/\">\n",
    "    <img src=\"http://i.creativecommons.org/p/zero/1.0/88x31.png\" style=\"border-style: none;\" alt=\"CC0\" />\n",
    "  </a>\n",
    "  <br />\n",
    "  To the extent possible under law,\n",
    "  <a rel=\"dct:publisher\"\n",
    "     href=\"https://orcid.org/0000-0002-9145-7238\">\n",
    "    <span property=\"dct:title\">Alexander Winkler</span></a>\n",
    "  has waived all copyright and related or neighboring rights to\n",
    "  <span property=\"dct:title\">Was passiert mit openGLAM-Daten auf Wikidata?</span>.\n",
    "This work is published from:\n",
    "<span property=\"vcard:Country\" datatype=\"dct:ISO3166\"\n",
    "      content=\"DE\" about=\"https://orcid.org/0000-0002-9145-7238\">\n",
    "  Germany</span>.\n",
    "</p>"
   ]
  }
 ],
 "metadata": {
  "kernelspec": {
   "display_name": "Python 3.9",
   "language": "python",
   "name": "python3.9"
  },
  "language_info": {
   "codemirror_mode": {
    "name": "ipython",
    "version": 3
   },
   "file_extension": ".py",
   "mimetype": "text/x-python",
   "name": "python",
   "nbconvert_exporter": "python",
   "pygments_lexer": "ipython3",
   "version": "3.9.0"
  }
 },
 "nbformat": 4,
 "nbformat_minor": 5
}
